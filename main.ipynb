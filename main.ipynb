{
 "cells": [
  {
   "cell_type": "code",
   "execution_count": 3,
   "id": "e9015dc605b1ca38",
   "metadata": {
    "ExecuteTime": {
     "end_time": "2025-02-24T17:33:20.593822Z",
     "start_time": "2025-02-24T17:32:44.264090Z"
    }
   },
   "outputs": [
    {
     "name": "stdout",
     "output_type": "stream",
     "text": [
      "数据集拆分完成！\n"
     ]
    }
   ],
   "source": [
    "import os\n",
    "import random\n",
    "from sklearn.model_selection import train_test_split\n",
    "import shutil\n",
    "\n",
    "# 原始数据集路径\n",
    "dataset_path = \"../datasets/Caltech101\"\n",
    "train_path = \"../datasets/Caltech101_train\"\n",
    "test_path = \"../datasets/Caltech101_test\"\n",
    "\n",
    "# 创建存放训练集和测试集的文件夹\n",
    "os.makedirs(train_path, exist_ok=True)\n",
    "os.makedirs(test_path, exist_ok=True)\n",
    "\n",
    "# 遍历类别\n",
    "for category in os.listdir(dataset_path):\n",
    "    category_path = os.path.join(dataset_path, category)\n",
    "    if not os.path.isdir(category_path):\n",
    "        continue  # 跳过非文件夹\n",
    "\n",
    "    images = os.listdir(category_path)\n",
    "    random.shuffle(images)\n",
    "\n",
    "    # 划分训练集和测试集\n",
    "    train_images, test_images = train_test_split(images, train_size=30, random_state=42)\n",
    "\n",
    "    # 复制图片到训练集\n",
    "    os.makedirs(os.path.join(train_path, category), exist_ok=True)\n",
    "    for img in train_images:\n",
    "        shutil.copy(os.path.join(category_path, img), os.path.join(train_path, category, img))\n",
    "\n",
    "    # 复制图片到测试集\n",
    "    os.makedirs(os.path.join(test_path, category), exist_ok=True)\n",
    "    for img in test_images:\n",
    "        shutil.copy(os.path.join(category_path, img), os.path.join(test_path, category, img))\n",
    "\n",
    "print(\"数据集拆分完成！\")"
   ]
  },
  {
   "cell_type": "code",
   "execution_count": 2,
   "id": "b347dff1",
   "metadata": {},
   "outputs": [
    {
     "name": "stdout",
     "output_type": "stream",
     "text": [
      "2.6.0+cu126\n",
      "True\n"
     ]
    }
   ],
   "source": [
    "import torch\n",
    "print(torch.__version__)\n",
    "print(torch.cuda.is_available())"
   ]
  },
  {
   "cell_type": "code",
   "execution_count": null,
   "id": "76332dafdd5f800",
   "metadata": {},
   "outputs": [],
   "source": [
    "import torch\n",
    "import torch.nn as nn\n",
    "import cv2\n",
    "import numpy as np\n",
    "from ultralytics import YOLO\n",
    "\n",
    "# **加载 YOLO11s-Cls 作为 CNN 特征提取器**\n",
    "yolo_model = YOLO(\"yolo11cls.pt\")\n",
    "\n",
    "# **多通道输入处理**\n",
    "def extract_ppt_regions(image):\n",
    "    \"\"\" 从输入图像提取完整图像 + 上/下/左/右 关键区域 \"\"\"\n",
    "    h, w, _ = image.shape\n",
    "    top = image[:h//5, :, :]\n",
    "    bottom = image[-h//5:, :, :]\n",
    "    left = image[:, :w//5, :]\n",
    "    right = image[:, -w//5:, :]\n",
    "    return image, top, bottom, left, right  # 返回五个区域\n",
    "\n",
    "def preprocess_image(image):\n",
    "    \"\"\" 预处理输入图像，使其适应 YOLO 训练 \"\"\"\n",
    "    image = cv2.resize(image, (640, 640))\n",
    "    image = image / 255.0  # 归一化\n",
    "    return torch.tensor(image).permute(2, 0, 1).float()  # (C, H, W)\n",
    "\n",
    "def prepare_multi_input(image_path):\n",
    "    \"\"\" 读取图像，并提取不同 PPT 关键区域 \"\"\"\n",
    "    image = cv2.imread(image_path)\n",
    "    full, top, bottom, left, right = extract_ppt_regions(image)\n",
    "\n",
    "    # 处理成 YOLO 可用的输入\n",
    "    full_t = preprocess_image(full)\n",
    "    top_t = preprocess_image(top)\n",
    "    bottom_t = preprocess_image(bottom)\n",
    "    left_t = preprocess_image(left)\n",
    "    right_t = preprocess_image(right)\n",
    "\n",
    "    # **拼接输入（5 个通道）**\n",
    "    multi_input = torch.cat([full_t, top_t, bottom_t, left_t, right_t], dim=0).unsqueeze(0)  # (1, 15, 640, 640)\n",
    "    return multi_input\n",
    "\n",
    "# **测试数据**\n",
    "multi_input = prepare_multi_input(\"ppt_screenshot.jpg\")\n",
    "print(\"Multi-input shape:\", multi_input.shape)  # (1, 15, 640, 640)\n"
   ]
  },
  {
   "cell_type": "code",
   "execution_count": null,
   "id": "527efed3",
   "metadata": {},
   "outputs": [],
   "source": [
    "print(\"hello\")\n"
   ]
  },
  {
   "cell_type": "code",
   "execution_count": null,
   "id": "6038c561",
   "metadata": {},
   "outputs": [],
   "source": []
  }
 ],
 "metadata": {
  "kernelspec": {
   "display_name": "cv",
   "language": "python",
   "name": "python3"
  },
  "language_info": {
   "codemirror_mode": {
    "name": "ipython",
    "version": 3
   },
   "file_extension": ".py",
   "mimetype": "text/x-python",
   "name": "python",
   "nbconvert_exporter": "python",
   "pygments_lexer": "ipython3",
   "version": "3.9.21"
  }
 },
 "nbformat": 4,
 "nbformat_minor": 5
}
