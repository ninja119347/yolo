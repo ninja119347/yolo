{
 "cells": [
  {
   "metadata": {
    "ExecuteTime": {
     "end_time": "2025-02-24T17:33:20.593822Z",
     "start_time": "2025-02-24T17:32:44.264090Z"
    }
   },
   "cell_type": "code",
   "source": [
    "import os\n",
    "import random\n",
    "from sklearn.model_selection import train_test_split\n",
    "import shutil\n",
    "\n",
    "# 原始数据集路径\n",
    "dataset_path = \"../datasets/Caltech101\"\n",
    "train_path = \"../datasets/Caltech101_train\"\n",
    "test_path = \"../datasets/Caltech101_test\"\n",
    "\n",
    "# 创建存放训练集和测试集的文件夹\n",
    "os.makedirs(train_path, exist_ok=True)\n",
    "os.makedirs(test_path, exist_ok=True)\n",
    "\n",
    "# 遍历类别\n",
    "for category in os.listdir(dataset_path):\n",
    "    category_path = os.path.join(dataset_path, category)\n",
    "    if not os.path.isdir(category_path):\n",
    "        continue  # 跳过非文件夹\n",
    "\n",
    "    images = os.listdir(category_path)\n",
    "    random.shuffle(images)\n",
    "\n",
    "    # 划分训练集和测试集\n",
    "    train_images, test_images = train_test_split(images, train_size=30, random_state=42)\n",
    "\n",
    "    # 复制图片到训练集\n",
    "    os.makedirs(os.path.join(train_path, category), exist_ok=True)\n",
    "    for img in train_images:\n",
    "        shutil.copy(os.path.join(category_path, img), os.path.join(train_path, category, img))\n",
    "\n",
    "    # 复制图片到测试集\n",
    "    os.makedirs(os.path.join(test_path, category), exist_ok=True)\n",
    "    for img in test_images:\n",
    "        shutil.copy(os.path.join(category_path, img), os.path.join(test_path, category, img))\n",
    "\n",
    "print(\"数据集拆分完成！\")"
   ],
   "id": "e9015dc605b1ca38",
   "outputs": [
    {
     "name": "stdout",
     "output_type": "stream",
     "text": [
      "数据集拆分完成！\n"
     ]
    }
   ],
   "execution_count": 4
  },
  {
   "metadata": {},
   "cell_type": "code",
   "outputs": [],
   "execution_count": null,
   "source": "",
   "id": "76332dafdd5f800"
  }
 ],
 "metadata": {
  "kernelspec": {
   "display_name": "Python 3",
   "language": "python",
   "name": "python3"
  },
  "language_info": {
   "codemirror_mode": {
    "name": "ipython",
    "version": 2
   },
   "file_extension": ".py",
   "mimetype": "text/x-python",
   "name": "python",
   "nbconvert_exporter": "python",
   "pygments_lexer": "ipython2",
   "version": "2.7.6"
  }
 },
 "nbformat": 4,
 "nbformat_minor": 5
}
